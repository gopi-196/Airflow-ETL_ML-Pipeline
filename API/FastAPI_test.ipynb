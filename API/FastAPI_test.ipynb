{
 "cells": [
  {
   "cell_type": "code",
   "execution_count": 43,
   "id": "70679f78",
   "metadata": {},
   "outputs": [],
   "source": [
    "from fastapi import FastAPI, Request\n",
    "from fastapi.encoders import jsonable_encoder\n",
    "import pickle\n",
    "import os\n",
    "import requests"
   ]
  },
  {
   "cell_type": "code",
   "execution_count": 44,
   "id": "32d7548b",
   "metadata": {},
   "outputs": [],
   "source": [
    "app = FastAPI(debug=True)"
   ]
  },
  {
   "cell_type": "code",
   "execution_count": 45,
   "id": "e87b8160",
   "metadata": {},
   "outputs": [],
   "source": [
    "filename = 'LightGBM1.pkl'\n",
    "if os.path.getsize(filename) > 0:\n",
    "    with open(filename, 'rb') as f:\n",
    "        unpickler = pickle.Unpickler(f)\n",
    "        model = unpickler.load()"
   ]
  },
  {
   "cell_type": "code",
   "execution_count": 46,
   "id": "faa3fd2e",
   "metadata": {},
   "outputs": [],
   "source": [
    "def volume_prediction(model, vol_moving_avg, adj_close_rolling_med):\n",
    "    make_prediction = model.predict([[vol_moving_avg, adj_close_rolling_med]])\n",
    "    return make_prediction"
   ]
  },
  {
   "cell_type": "code",
   "execution_count": 47,
   "id": "005f8f77",
   "metadata": {},
   "outputs": [],
   "source": [
    "@app.get('/')\n",
    "def home():\n",
    "    return {'text': 'RiskThinking WorkSample'}"
   ]
  },
  {
   "cell_type": "code",
   "execution_count": 56,
   "id": "5bc015a8",
   "metadata": {},
   "outputs": [],
   "source": [
    "@app.get('/predict')\n",
    "def check(request: Request):\n",
    "    vol_moving_avg = request.query_params['vol_moving_avg']\n",
    "    adj_close_rolling_med = request.query_params['adj_close_rolling_med']\n",
    "    output = volume_prediction(model, vol_moving_avg, adj_close_rolling_med)\n",
    "    return jsonable_encoder({'vol_moving_avg': vol_moving_avg,\n",
    "                             'adj_close_rolling_med':adj_close_rolling_med,\n",
    "                             'volume': round(output[0])})\n",
    "    "
   ]
  },
  {
   "cell_type": "code",
   "execution_count": 57,
   "id": "d0b3e7de",
   "metadata": {},
   "outputs": [],
   "source": [
    "response = requests.get(url='http://127.0.0.1:8000/predict/', params={'vol_moving_avg': 12344, 'adj_close_rolling_med':20})"
   ]
  },
  {
   "cell_type": "code",
   "execution_count": 58,
   "id": "27e88417",
   "metadata": {},
   "outputs": [
    {
     "name": "stdout",
     "output_type": "stream",
     "text": [
      "<Response [200]>\n"
     ]
    }
   ],
   "source": [
    "print(response)"
   ]
  },
  {
   "cell_type": "code",
   "execution_count": 59,
   "id": "12ca1c87",
   "metadata": {},
   "outputs": [
    {
     "data": {
      "text/plain": [
       "{'vol_moving_avg': 12344.0, 'adj_close_rolling_med': 20.0, 'volume': 13780}"
      ]
     },
     "execution_count": 59,
     "metadata": {},
     "output_type": "execute_result"
    }
   ],
   "source": [
    "response.json()"
   ]
  }
 ],
 "metadata": {
  "kernelspec": {
   "display_name": "Python 3 (ipykernel)",
   "language": "python",
   "name": "python3"
  },
  "language_info": {
   "codemirror_mode": {
    "name": "ipython",
    "version": 3
   },
   "file_extension": ".py",
   "mimetype": "text/x-python",
   "name": "python",
   "nbconvert_exporter": "python",
   "pygments_lexer": "ipython3",
   "version": "3.7.13"
  }
 },
 "nbformat": 4,
 "nbformat_minor": 5
}
